{
 "cells": [
  {
   "cell_type": "code",
   "execution_count": 2,
   "id": "80e1392b",
   "metadata": {},
   "outputs": [
    {
     "name": "stdout",
     "output_type": "stream",
     "text": [
      "[i = 0, j = 0][i = 0, j = 1][i = 0, j = 2][i = 0, j = 3]\n",
      "[i = 1, j = 0][i = 1, j = 1][i = 1, j = 2]\n",
      "[i = 2, j = 0][i = 2, j = 1]\n",
      "[i = 3, j = 0]\n"
     ]
    }
   ],
   "source": [
    "for i in range(4):\n",
    "    for j in range(4 - i):\n",
    "        print('[i = {}, j = {}]'.format(i, j), end='')\n",
    "    print()"
   ]
  },
  {
   "cell_type": "code",
   "execution_count": 5,
   "id": "3d3d4f03",
   "metadata": {},
   "outputs": [
    {
     "name": "stdout",
     "output_type": "stream",
     "text": [
      "1회전 결과 : [3, 4, 8, 1, 9]\n",
      "2회전 결과 : [3, 4, 1, 8, 9]\n",
      "3회전 결과 : [3, 1, 4, 8, 9]\n",
      "4회전 결과 : [1, 3, 4, 8, 9]\n",
      "정렬 결과 : [1, 3, 4, 8, 9]\n"
     ]
    }
   ],
   "source": [
    "data = [8, 3, 4, 9, 1]\n",
    "for i in range(len(data) - 1):\n",
    "    for j in range(len(data) - 1 - i):\n",
    "         # 오름차수 정렬 -> 앞(j번째)의 데이터가 뒤(j+1번째)의 데이터보다 크면 두 기억장소의 데이터를 교환한다.\n",
    "        if data[j] > data[j + 1]:\n",
    "            data[j], data[j + 1] = data[j + 1], data[j]\n",
    "    print('{}회전 결과 : {}'.format(i+1, data))    \n",
    "print('정렬 결과 : {}'.format(data))"
   ]
  },
  {
   "cell_type": "code",
   "execution_count": 6,
   "id": "fb288080",
   "metadata": {},
   "outputs": [
    {
     "name": "stdout",
     "output_type": "stream",
     "text": [
      "1회전 결과 : [8, 4, 9, 3, 1]\n",
      "2회전 결과 : [8, 9, 4, 3, 1]\n",
      "3회전 결과 : [9, 8, 4, 3, 1]\n",
      "4회전 결과 : [9, 8, 4, 3, 1]\n",
      "정렬 결과 : [9, 8, 4, 3, 1]\n"
     ]
    }
   ],
   "source": [
    "data = [8, 3, 4, 9, 1]\n",
    "for i in range(len(data) - 1):\n",
    "    for j in range(len(data) - 1 - i):\n",
    "         # 내림차수 정렬 -> 앞(j번째)의 데이터가 뒤(j+1번째)의 데이터보다 작으면 두 기억장소의 데이터를 교환한다.\n",
    "        if data[j] < data[j + 1]:\n",
    "            data[j], data[j + 1] = data[j + 1], data[j]\n",
    "    print('{}회전 결과 : {}'.format(i+1, data))    \n",
    "print('정렬 결과 : {}'.format(data))"
   ]
  },
  {
   "cell_type": "code",
   "execution_count": 9,
   "id": "6c1d85c9",
   "metadata": {},
   "outputs": [
    {
     "name": "stdout",
     "output_type": "stream",
     "text": [
      "1회전 결과 : [1, 3, 4, 8, 9]\n",
      "원래는 4 회전을 해야 하지만 1 회전 후 중간 종료됨.\n",
      "정렬 결과 : [1, 3, 4, 8, 9]\n"
     ]
    }
   ],
   "source": [
    "# 버블정렬은 데이터가 어느정도 정렬이 되어있는 상태라면 회전수를 다 채우지 않더라도 정렬이 완료되었나 \n",
    "# 판단해서 조기에 정렬을 종료할 수 있다.\n",
    "data = [9, 1, 3, 4, 8]\n",
    "for i in range(len(data) - 1):\n",
    "    # 회전(정렬) 작업이 시작되기 전에 flag 변수를 선언하고 True로 초기화 시킨다.\n",
    "    flag = True\n",
    "    for j in range(len(data) - 1 - i):\n",
    "        if data[j] > data[j + 1]:\n",
    "            data[j], data[j + 1] = data[j + 1], data[j]\n",
    "            # 데이터 교환 작업이 실행되면 flag 변수를 False로 수정한다.\n",
    "            flag = False\n",
    "    # 한 회전이 종료되었을 때 데이터 교환 작업이 한 번도 실행되지 않았다면 현재 데이터는 모두 정렬이 되어있는 상태를 의미하므로\n",
    "    # 정렬을 중지시키다. -> 반복을 탈출한다.\n",
    "    if flag:\n",
    "        print('원래는 {} 회전을 해야 하지만 {} 회전 후 중간 종료됨.'.format(len(data) - 1, i))\n",
    "        break\n",
    "    print('{}회전 결과 : {}'.format(i+1, data))    \n",
    "print('정렬 결과 : {}'.format(data))"
   ]
  },
  {
   "cell_type": "code",
   "execution_count": null,
   "id": "04b8bfcb",
   "metadata": {},
   "outputs": [],
   "source": []
  }
 ],
 "metadata": {
  "kernelspec": {
   "display_name": "Python 3 (ipykernel)",
   "language": "python",
   "name": "python3"
  },
  "language_info": {
   "codemirror_mode": {
    "name": "ipython",
    "version": 3
   },
   "file_extension": ".py",
   "mimetype": "text/x-python",
   "name": "python",
   "nbconvert_exporter": "python",
   "pygments_lexer": "ipython3",
   "version": "3.9.7"
  }
 },
 "nbformat": 4,
 "nbformat_minor": 5
}
