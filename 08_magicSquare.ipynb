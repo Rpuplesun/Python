{
 "cells": [
  {
   "cell_type": "code",
   "execution_count": null,
   "id": "e3a510b2",
   "metadata": {},
   "outputs": [],
   "source": [
    "#  마방진(가로, 세로, 대각선 방향의 숫자 합계가 모두 같은 배열) 만들기\n",
    "# 최초의 1이 채워지는 자리는 첫 줄 정 가운데 열이다. -> 홀수차 정방행렬(행과 열의 개수가 같은 행렬)만 가능하다.\n",
    "# 직전에 채워진 숫자 값에 따라서 다음에 채워질 숫자의 위치가 결정된다.\n",
    "# 직전에 채워진 숫자가 행렬의 차수(n)의 배수면 다음 숫자는 아래줄에 채운다. -> 행 + 1\n",
    "# 직전에 채워진 숫자가 n의 배수가 아니면 다음 숫자는 오른쪽 위 방향으로 채운다. -> 행 - 1, 열 + 1\n",
    "# 행이 0보다 작아지면 행의 위치를 마지막 위치로 변경한 행과 열이 행렬의 차수와 같아지면 열의 위치를 0으로 변경한다."
   ]
  },
  {
   "cell_type": "code",
   "execution_count": 5,
   "id": "bead22e9",
   "metadata": {},
   "outputs": [
    {
     "name": "stdout",
     "output_type": "stream",
     "text": [
      "[0, 0, 0, 0, 0]\n",
      "[[0, 0, 0, 0, 0], [0, 0, 0, 0, 0], [0, 0, 0, 0, 0], [0, 0, 0, 0, 0], [0, 0, 0, 0, 0]]\n",
      "[[0 0 0 0 0]\n",
      " [0 0 0 0 0]\n",
      " [0 0 0 0 0]\n",
      " [0 0 0 0 0]\n",
      " [0 0 0 0 0]]\n"
     ]
    }
   ],
   "source": [
    "# 1차원 리스트 만들기\n",
    "a = [0 for i in range(5)] # 0이 5번 반복되는 1차원 리스트\n",
    "print(a)\n",
    "# 2차원 리스트 만들기 -> 리스트이름 = [[0] * 열의개수 for 변수 in range(행의개수)]\n",
    "a = [[0] * 5 for i in range(5)]\n",
    "print(a)\n",
    "import numpy as np\n",
    "b = np.array(a)\n",
    "print(b)"
   ]
  },
  {
   "cell_type": "code",
   "execution_count": 10,
   "id": "d8a1a4a2",
   "metadata": {},
   "outputs": [
    {
     "name": "stdout",
     "output_type": "stream",
     "text": [
      " 0  0  0  0  0 \n",
      " 0  0  0  0  0 \n",
      " 0  0  0  0  0 \n",
      " 0  0  0  0  0 \n",
      " 0  0  0  0  0 \n"
     ]
    }
   ],
   "source": [
    "for i in range(5):\n",
    "    for j in range(5):\n",
    "        print('{0:2d} '.format(a[i][j]), end='')\n",
    "    print()"
   ]
  },
  {
   "cell_type": "code",
   "execution_count": 12,
   "id": "5d318390",
   "metadata": {},
   "outputs": [
    {
     "name": "stdout",
     "output_type": "stream",
     "text": [
      "17 24  1  8 15 \n",
      "23  5  7 14 16 \n",
      " 4  6 13 20 22 \n",
      "10 12 19 21  3 \n",
      "11 18 25  2  9 \n"
     ]
    }
   ],
   "source": [
    "# 5행 5열의 2차원 리스트를 선언한다.\n",
    "a = [[0] * 5 for i in range(5)]\n",
    "# 5행 5열일 경우 최초의 1이 채워질 위치를 정한다.\n",
    "i = 0\n",
    "j = 2\n",
    "\n",
    "# 마방진에 채워질 숫자의 개수만큼 반복하며 2차원 리스트에 숫자를 채워준다.\n",
    "for k in range(1, 26):\n",
    "    a[i][j] = k\n",
    "    # 마방진에 채운 숫자가 5의 배수인가 판단한다.\n",
    "    if k % 5 == 0:\n",
    "        # 5의 배수면 다음에 채워질 숫자의 위치는 행만 1 증가시킨디ㅏ.\n",
    "        i += 1\n",
    "    else:\n",
    "        # 5의 배수가 아니면 다음에 채워질 숫자의 위치는 행은 1감소, 열은 1 증가시킨다.\n",
    "        i -= 1\n",
    "        # 행이 감소하다가 0보다 작아지면 마지막 행으로 열의 위치를 조정한다.\n",
    "        if i < 0:\n",
    "            i = 4\n",
    "        j += 1\n",
    "        # 열이 증가하다가 5가 되면 첫 번째 열로 열의 위치를 조정한다.\n",
    "        if j >= 5:\n",
    "            j = 0\n",
    "            \n",
    "for i in range(5): # 행\n",
    "    for j in range(5): # 열\n",
    "        print('{0:2d} '.format(a[i][j]), end='')\n",
    "    print()"
   ]
  },
  {
   "cell_type": "code",
   "execution_count": 26,
   "id": "d23e0c51",
   "metadata": {},
   "outputs": [
    {
     "name": "stdout",
     "output_type": "stream",
     "text": [
      "3 이상의 홀수를 입력해주세요 : 13\n",
      " 93 108 123 138 153 168   1  16  31  46  61  76  91 \n",
      "107 122 137 152 167  13  15  30  45  60  75  90  92 \n",
      "121 136 151 166  12  14  29  44  59  74  89 104 106 \n",
      "135 150 165  11  26  28  43  58  73  88 103 105 120 \n",
      "149 164  10  25  27  42  57  72  87 102 117 119 134 \n",
      "163   9  24  39  41  56  71  86 101 116 118 133 148 \n",
      "  8  23  38  40  55  70  85 100 115 130 132 147 162 \n",
      " 22  37  52  54  69  84  99 114 129 131 146 161   7 \n",
      " 36  51  53  68  83  98 113 128 143 145 160   6  21 \n",
      " 50  65  67  82  97 112 127 142 144 159   5  20  35 \n",
      " 64  66  81  96 111 126 141 156 158   4  19  34  49 \n",
      " 78  80  95 110 125 140 155 157   3  18  33  48  63 \n",
      " 79  94 109 124 139 154 169   2  17  32  47  62  77 \n"
     ]
    }
   ],
   "source": [
    "# 작성할 마방진의 차수를 3이상인 홀수로 입력받는다.\n",
    "while True: \n",
    "    number = int(input('3 이상의 홀수를 입력해주세요 : '))\n",
    "    if number >= 3 and number % 2 == 1:\n",
    "        break\n",
    "    print('다시 입력해주세요')\n",
    "\n",
    "a = [[0] * number for i in range(number)]\n",
    "i = 0\n",
    "# 행렬의 차수에 따라 최초의 1이 채워질 열을 계산한다.\n",
    "j = number // 2\n",
    "\n",
    "# 마방진에 채워질 숫자의 개수만큼 반복하며 2차원 리스트에 숫자를 채워준다.\n",
    "for k in range(1, number*number+1):\n",
    "    a[i][j] = k\n",
    "    # 마방진에 채운 숫자가 5의 배수인가 판단한다.\n",
    "    if k % number == 0:\n",
    "        # 5의 배수면 다음에 채워질 숫자의 위치는 행만 1 증가시킨디ㅏ.\n",
    "        i += 1\n",
    "    else:\n",
    "        # 5의 배수가 아니면 다음에 채워질 숫자의 위치는 행은 1감소, 열은 1 증가시킨다.\n",
    "        i -= 1\n",
    "        # 행이 감소하다가 0보다 작아지면 마지막 행으로 열의 위치를 조정한다.\n",
    "        if i < 0:\n",
    "            i = number - 1\n",
    "        j += 1\n",
    "        # 열이 증가하다가 5가 되면 첫 번째 열로 열의 위치를 조정한다.\n",
    "        if j >= number:\n",
    "            j = 0\n",
    "            \n",
    "for i in range(number): # 행\n",
    "    for j in range(number): # 열\n",
    "        print('{0:3d} '.format(a[i][j]), end='')\n",
    "    print()"
   ]
  },
  {
   "cell_type": "code",
   "execution_count": null,
   "id": "747d2695",
   "metadata": {},
   "outputs": [],
   "source": []
  }
 ],
 "metadata": {
  "kernelspec": {
   "display_name": "Python 3 (ipykernel)",
   "language": "python",
   "name": "python3"
  },
  "language_info": {
   "codemirror_mode": {
    "name": "ipython",
    "version": 3
   },
   "file_extension": ".py",
   "mimetype": "text/x-python",
   "name": "python",
   "nbconvert_exporter": "python",
   "pygments_lexer": "ipython3",
   "version": "3.9.7"
  }
 },
 "nbformat": 4,
 "nbformat_minor": 5
}
