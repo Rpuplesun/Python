{
 "cells": [
  {
   "cell_type": "code",
   "execution_count": null,
   "id": "1ff48ebb",
   "metadata": {},
   "outputs": [],
   "source": [
    "# 유클리드 호제법을 이용한 최대공약수와 최소공배수 계산하기\n",
    "# 숫자 2개를 입력받아 큰 수와 작은 수를 구분한다.\n",
    "# 큰 수를 작은 수로 나눈 나머지가 0이면 작은 수가 최대공약수가 되고 큰 수를 작은수로 나눈 나머지가 0이 아니면\n",
    "# 큰 수를 기억하던 기억장소에 작은수를 넣고 작은수를 기억하는 기억장소에 나머지를 넣어준 후\n",
    "# 작업을 반복한다.\n",
    "# 최대공약수가 계산되면 입력받은 숫자 2개를 곱한 결과를 최대공약수로 나눠주면 최소공배수가 계산된다."
   ]
  },
  {
   "cell_type": "code",
   "execution_count": 3,
   "id": "3f1335c2",
   "metadata": {},
   "outputs": [
    {
     "name": "stdout",
     "output_type": "stream",
     "text": [
      "숫자 2개를 입력하세요 : 6 9\n",
      "big : 9, small = 6\n",
      "최대공약수 : 3, 최소공배수 : 18\n"
     ]
    }
   ],
   "source": [
    "# map(자료형, input('입력 메세지').split()): 입력된 문자열을 공백으로 분한 데이터를 지정한 자료형으로 일괄 변환한다.\n",
    "a, b = map(int, input('숫자 2개를 입력하세요 : ').split())\n",
    "if a > b:\n",
    "    big = a\n",
    "    small = b\n",
    "else:\n",
    "    big = b\n",
    "    small = a\n",
    "print('big : {}, small = {}'.format(big, small))\n",
    "\n",
    "# 입력받은 숫자에 따라 반복 횟수가 달라지므로 무한루프를 돌려서 처리한다.\n",
    "while True:\n",
    "    r = big % small # 큰 수를 작은 수로 나눈 나머지를 계산한다.\n",
    "    if r == 0: # 무한루프 종료 조건 -> 나머지가 0이면 작은 수가 최대공약수\n",
    "        break\n",
    "    big = small\n",
    "    small = r\n",
    "    \n",
    "# 최소 공배수 계산하고 최대공약수와 최소공배수를 출력한다.\n",
    "print('최대공약수 : {}, 최소공배수 : {}'.format(small, a * b // small))\n"
   ]
  },
  {
   "cell_type": "code",
   "execution_count": 5,
   "id": "78ff691f",
   "metadata": {},
   "outputs": [
    {
     "name": "stdout",
     "output_type": "stream",
     "text": [
      "숫자 2개를 입력하세요 : 6 9\n",
      "high : 9, low = 6\n",
      "최대공약수 : 3, 최소공배수 : 18\n"
     ]
    }
   ],
   "source": [
    "a, b = map(int, input('숫자 2개를 입력하세요 : ').split())\n",
    "r = 1\n",
    "if a > b:\n",
    "    high = a\n",
    "    low = b\n",
    "else:\n",
    "    high = b\n",
    "    low = a\n",
    "print('high : {}, low = {}'.format(high, low))\n",
    "\n",
    "# 최초 실행 시 변수 r에 저장된 값이 0보다 크므로 나머지를 게산하는 문장이 먼저 실행된다.\n",
    "while r > 0:\n",
    "    r = high % low \n",
    "    high = low\n",
    "    low = r\n",
    "l = a * b // high \n",
    "print('최대공약수 : {}, 최소공배수 : {}'.format(high, l))\n"
   ]
  },
  {
   "cell_type": "code",
   "execution_count": 2,
   "id": "fad8c25b",
   "metadata": {},
   "outputs": [
    {
     "name": "stdout",
     "output_type": "stream",
     "text": [
      "정수를 입력하세요 : 4\n"
     ]
    },
    {
     "ename": "KeyboardInterrupt",
     "evalue": "",
     "output_type": "error",
     "traceback": [
      "\u001b[1;31m---------------------------------------------------------------------------\u001b[0m",
      "\u001b[1;31mKeyboardInterrupt\u001b[0m                         Traceback (most recent call last)",
      "\u001b[1;32m~\\AppData\\Local\\Temp/ipykernel_35092/2489595051.py\u001b[0m in \u001b[0;36m<module>\u001b[1;34m\u001b[0m\n\u001b[0;32m      4\u001b[0m     \u001b[0mm\u001b[0m \u001b[1;33m=\u001b[0m \u001b[0ma\u001b[0m \u001b[1;33m//\u001b[0m \u001b[1;36m2\u001b[0m\u001b[1;33m\u001b[0m\u001b[1;33m\u001b[0m\u001b[0m\n\u001b[0;32m      5\u001b[0m     \u001b[0mr\u001b[0m \u001b[1;33m=\u001b[0m \u001b[0ma\u001b[0m \u001b[1;33m%\u001b[0m \u001b[1;36m2\u001b[0m\u001b[1;33m\u001b[0m\u001b[1;33m\u001b[0m\u001b[0m\n\u001b[1;32m----> 6\u001b[1;33m     \u001b[0mconvert\u001b[0m\u001b[1;33m.\u001b[0m\u001b[0mappend\u001b[0m\u001b[1;33m(\u001b[0m\u001b[0mr\u001b[0m\u001b[1;33m)\u001b[0m\u001b[1;33m\u001b[0m\u001b[1;33m\u001b[0m\u001b[0m\n\u001b[0m\u001b[0;32m      7\u001b[0m     \u001b[1;32mif\u001b[0m \u001b[0mm\u001b[0m \u001b[1;33m==\u001b[0m \u001b[1;36m0\u001b[0m\u001b[1;33m:\u001b[0m\u001b[1;33m\u001b[0m\u001b[1;33m\u001b[0m\u001b[0m\n\u001b[0;32m      8\u001b[0m         \u001b[1;32mbreak\u001b[0m\u001b[1;33m\u001b[0m\u001b[1;33m\u001b[0m\u001b[0m\n",
      "\u001b[1;31mKeyboardInterrupt\u001b[0m: "
     ]
    }
   ],
   "source": []
  },
  {
   "cell_type": "code",
   "execution_count": null,
   "id": "0f697c8e",
   "metadata": {},
   "outputs": [],
   "source": []
  }
 ],
 "metadata": {
  "kernelspec": {
   "display_name": "Python 3 (ipykernel)",
   "language": "python",
   "name": "python3"
  },
  "language_info": {
   "codemirror_mode": {
    "name": "ipython",
    "version": 3
   },
   "file_extension": ".py",
   "mimetype": "text/x-python",
   "name": "python",
   "nbconvert_exporter": "python",
   "pygments_lexer": "ipython3",
   "version": "3.9.7"
  }
 },
 "nbformat": 4,
 "nbformat_minor": 5
}
