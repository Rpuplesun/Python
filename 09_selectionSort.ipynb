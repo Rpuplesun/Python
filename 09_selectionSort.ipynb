{
 "cells": [
  {
   "cell_type": "code",
   "execution_count": 1,
   "id": "19bf59d4",
   "metadata": {},
   "outputs": [
    {
     "name": "stdout",
     "output_type": "stream",
     "text": [
      "[i = 0, j = 1][i = 0, j = 2][i = 0, j = 3][i = 0, j = 4]\n",
      "[i = 1, j = 2][i = 1, j = 3][i = 1, j = 4]\n",
      "[i = 2, j = 3][i = 2, j = 4]\n",
      "[i = 3, j = 4]\n"
     ]
    }
   ],
   "source": [
    "\n",
    "list = []\n",
    "\n",
    "for i in range(4):\n",
    "    for j in range(i + 1, 5):\n",
    "        print('[i = {}, j = {}]'.format(i, j), end='')\n",
    "    print()\n",
    "    "
   ]
  },
  {
   "cell_type": "code",
   "execution_count": 10,
   "id": "fb8e210d",
   "metadata": {},
   "outputs": [
    {
     "name": "stdout",
     "output_type": "stream",
     "text": [
      "1회전 결과 : [1, 8, 4, 9, 3]\n",
      "2회전 결과 : [1, 3, 8, 9, 4]\n",
      "3회전 결과 : [1, 3, 4, 9, 8]\n",
      "4회전 결과 : [1, 3, 4, 8, 9]\n",
      "정렬 결과 : [1, 3, 4, 8, 9]\n"
     ]
    }
   ],
   "source": [
    "data = [8, 3, 4, 9, 1]\n",
    "for i in range(4):\n",
    "    for j in range(i + 1, 5):\n",
    "        # 오름차수 정렬 -> 앞(i번째)의 데이터가 뒤(j번째)의 데이터보다 크면 두 기억장소의 데이터를 교환한다.\n",
    "        if data[i] > data[j]:\n",
    "            data[i], data[j] = data[j], data[i]\n",
    "    print('{}회전 결과 : {}'.format(i+1, data))   \n",
    "print('정렬 결과 : {}'.format(data))"
   ]
  },
  {
   "cell_type": "code",
   "execution_count": 9,
   "id": "b3ffc302",
   "metadata": {},
   "outputs": [
    {
     "name": "stdout",
     "output_type": "stream",
     "text": [
      "1회전 결과 : [9, 3, 4, 8, 1]\n",
      "2회전 결과 : [9, 8, 3, 4, 1]\n",
      "3회전 결과 : [9, 8, 4, 3, 1]\n",
      "4회전 결과 : [9, 8, 4, 3, 1]\n",
      "정렬 결과 : [9, 8, 4, 3, 1]\n"
     ]
    }
   ],
   "source": [
    "data = [8, 3, 4, 9, 1]\n",
    "for i in range(4):\n",
    "    for j in range(i + 1, 5):\n",
    "        # 내림차수 정렬\n",
    "        if data[i] < data[j]:\n",
    "            data[i], data[j] = data[j], data[i]\n",
    "    print('{}회전 결과 : {}'.format(i+1, data))   \n",
    "print('정렬 결과 : {}'.format(data))"
   ]
  },
  {
   "cell_type": "code",
   "execution_count": 11,
   "id": "09e70242",
   "metadata": {},
   "outputs": [
    {
     "name": "stdout",
     "output_type": "stream",
     "text": [
      "1회전 결과 : [1, 100, 8, 4, 9, 3]\n",
      "2회전 결과 : [1, 3, 100, 8, 9, 4]\n",
      "3회전 결과 : [1, 3, 4, 100, 9, 8]\n",
      "4회전 결과 : [1, 3, 4, 8, 100, 9]\n",
      "5회전 결과 : [1, 3, 4, 8, 9, 100]\n",
      "정렬 결과 : [1, 3, 4, 8, 9, 100]\n"
     ]
    }
   ],
   "source": [
    "data = [100, 8, 3, 4, 9, 1]\n",
    "for i in range(len(data) - 1): # 회전수(n-1번), 데이터를 선택하는 위치\n",
    "    for j in range(i + 1, len(data)): # 선택된 데이터와 비교 대상이 되는 데이터의 위치\n",
    "        if data[i] > data[j]:\n",
    "            data[i], data[j] = data[j], data[i]\n",
    "    print('{}회전 결과 : {}'.format(i+1, data))   \n",
    "print('정렬 결과 : {}'.format(data))"
   ]
  },
  {
   "cell_type": "code",
   "execution_count": null,
   "id": "a69f069d",
   "metadata": {},
   "outputs": [],
   "source": []
  }
 ],
 "metadata": {
  "kernelspec": {
   "display_name": "Python 3 (ipykernel)",
   "language": "python",
   "name": "python3"
  },
  "language_info": {
   "codemirror_mode": {
    "name": "ipython",
    "version": 3
   },
   "file_extension": ".py",
   "mimetype": "text/x-python",
   "name": "python",
   "nbconvert_exporter": "python",
   "pygments_lexer": "ipython3",
   "version": "3.9.7"
  }
 },
 "nbformat": 4,
 "nbformat_minor": 5
}
