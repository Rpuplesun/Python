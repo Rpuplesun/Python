{
 "cells": [
  {
   "cell_type": "code",
   "execution_count": 4,
   "id": "b83ef378",
   "metadata": {},
   "outputs": [
    {
     "name": "stdout",
     "output_type": "stream",
     "text": [
      "회전과정 :  [19, 2, 31, 27, 30, 11, 121, 45]\n",
      "회전과정 :  [19, 2, 30, 11, 31, 27, 121, 45]\n",
      "회전과정 :  [2, 11, 19, 27, 30, 31, 45, 121]\n",
      "회전결과 :  [2, 11, 19, 27, 30, 31, 45, 121]\n"
     ]
    }
   ],
   "source": [
    "data = [19, 2, 31, 45, 30, 11, 121, 27]\n",
    "# 정렬할 데이터의 중간 위치를 계산한다. -> 블록의 크기\n",
    "mid = len(data) // 2\n",
    "\n",
    "# 정렬할 데이터의 개수에 따라서 회전수가 달라지므로 정렬할 데이터의 중간 위치가 0보다 큰 동안 반복하며 정렬한다.\n",
    "while mid > 0:\n",
    "    for i in range(mid, len(data)):\n",
    "        key = data[i]\n",
    "        index = i\n",
    "        while index >= mid and data[index - mid] > key:\n",
    "            data[index] = data[index - mid]\n",
    "            index -= mid\n",
    "        #========while end\n",
    "        data[index] = key\n",
    "    #========for i -> 회전 종료\n",
    "    print('회전과정 : ',data)\n",
    "    # 한 회전 작업이 종료되었으므로 블록의 크기를 반으로 줄인다.\n",
    "    mid //= 2\n",
    "#========while end -> 정렬 종료\n",
    "print('회전결과 : ', data)"
   ]
  },
  {
   "cell_type": "code",
   "execution_count": null,
   "id": "fefdf848",
   "metadata": {},
   "outputs": [],
   "source": []
  }
 ],
 "metadata": {
  "kernelspec": {
   "display_name": "Python 3 (ipykernel)",
   "language": "python",
   "name": "python3"
  },
  "language_info": {
   "codemirror_mode": {
    "name": "ipython",
    "version": 3
   },
   "file_extension": ".py",
   "mimetype": "text/x-python",
   "name": "python",
   "nbconvert_exporter": "python",
   "pygments_lexer": "ipython3",
   "version": "3.9.7"
  }
 },
 "nbformat": 4,
 "nbformat_minor": 5
}
