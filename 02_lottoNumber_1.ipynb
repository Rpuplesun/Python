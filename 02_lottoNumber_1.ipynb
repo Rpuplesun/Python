{
 "cells": [
  {
   "cell_type": "code",
   "execution_count": 1,
   "id": "8b55cd48",
   "metadata": {},
   "outputs": [],
   "source": [
    "import random\n",
    "import time"
   ]
  },
  {
   "cell_type": "code",
   "execution_count": 25,
   "id": "cb5de066",
   "metadata": {},
   "outputs": [
    {
     "name": "stdout",
     "output_type": "stream",
     "text": [
      " 1  2  3  4  5  6  7  8  9 10 \n",
      "11 12 13 14 15 16 17 18 19 20 \n",
      "21 22 23 24 25 26 27 28 29 30 \n",
      "31 32 33 34 35 36 37 38 39 40 \n",
      "41 42 43 44 45 \n",
      "============================== 섞기전\n",
      " 2 22 24  1  8 23 38 40 33 12 \n",
      "44  7 34 20 17 27 31 45 28 30 \n",
      "15 42 18 43 21 26 16 13 37 39 \n",
      "14 36  4 41  3 32  5 25 35  9 \n",
      "29 11  6 19 10 \n",
      "============================== 섞은후\n",
      "1등 번호 :  2 22 24  1  8 23 보너스 번호: 38\n"
     ]
    }
   ],
   "source": [
    "# 로또 추첨기 역할을 할 리스트를 선언하고 1~45로 초기화시킨다.\n",
    "# li = []\n",
    "# for i in range(1, 46):\n",
    "#     li.append(i)\n",
    "lotto = [i for i in range(1, 46)]\n",
    "# print(lotto)\n",
    "\n",
    "# 섞기 전 상태를 1줄 10개씩 출력한다.\n",
    "for i in range(45):\n",
    "    print('{0:2d} '.format(lotto[i]), end='')\n",
    "    if (i + 1) % 10 == 0:\n",
    "        print()\n",
    "print('\\n'+'='*30+' 섞기전')\n",
    "\n",
    "# 섞는다\n",
    "# lotto[0]와(고정) lotto[1] ~ lotto[44] 중에서 랜덤한 위치의 값을 선택해서 두 기억장소의 데이터를 교환한다.\n",
    "for i in range(1000000):\n",
    "    r = random.randrange(1, 45)\n",
    "    lotto[0], lotto[r] = lotto[r], lotto[0]\n",
    "\n",
    "# 섞은 후 상태를 1줄 10개씩 출력한다.\n",
    "for i in range(45):\n",
    "    print('{0:2d} '.format(lotto[i]), end='')\n",
    "    if (i + 1) % 10 == 0:\n",
    "        print()\n",
    "print('\\n'+'='*30+' 섞은후')\n",
    "\n",
    "# 1등 번호와 보너스 번호를 출력한다.\n",
    "print('1등 번호 : ', end='')\n",
    "for i in range(6):\n",
    "    print('{0:2d} '.format(lotto[i]), end='')\n",
    "    # time 모듈의 sleep() 메소드는 인수로 지정된 시간만큼 프로그램을 일시적으로 멈춘다.\n",
    "    # sleep() 메소드에 프로그램을 멈추는 시간은 '초' 단위로 지정한다.\n",
    "    time.sleep(1)\n",
    "print('보너스 번호: {}'.format(lotto[6]))"
   ]
  },
  {
   "cell_type": "code",
   "execution_count": 30,
   "id": "1f015c08",
   "metadata": {},
   "outputs": [
    {
     "name": "stdout",
     "output_type": "stream",
     "text": [
      "흰공 번호 : 57 40 43  8 64 빨간공 번호: 16\n"
     ]
    }
   ],
   "source": [
    "# 미국로또 -> powerball, 흰공 1~69 -> 5개, 빨간공 1~26 -> 1개\n",
    "lotto = [i for i in range(1, 70)]\n",
    "for i in range(1000000):\n",
    "    r = random.randrange(1, 69)\n",
    "    lotto[0], lotto[r] = lotto[r], lotto[0]\n",
    "    \n",
    "print('흰공 번호 : ', end='')\n",
    "for i in range(5):\n",
    "    print('{0:2d} '.format(lotto[i]), end='')\n",
    "    time.sleep(1)\n",
    "print('빨간공 번호: {}'.format(random.randrange(1, 27)))"
   ]
  },
  {
   "cell_type": "code",
   "execution_count": null,
   "id": "4a1f05e8",
   "metadata": {},
   "outputs": [],
   "source": []
  }
 ],
 "metadata": {
  "kernelspec": {
   "display_name": "Python 3 (ipykernel)",
   "language": "python",
   "name": "python3"
  },
  "language_info": {
   "codemirror_mode": {
    "name": "ipython",
    "version": 3
   },
   "file_extension": ".py",
   "mimetype": "text/x-python",
   "name": "python",
   "nbconvert_exporter": "python",
   "pygments_lexer": "ipython3",
   "version": "3.9.7"
  }
 },
 "nbformat": 4,
 "nbformat_minor": 5
}
