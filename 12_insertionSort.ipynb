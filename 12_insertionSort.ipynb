{
 "cells": [
  {
   "cell_type": "code",
   "execution_count": 2,
   "id": "06849fca",
   "metadata": {},
   "outputs": [
    {
     "name": "stdout",
     "output_type": "stream",
     "text": [
      "[i = 1, j = 0] \n",
      "[i = 2, j = 1] [i = 2, j = 0] \n",
      "[i = 3, j = 2] [i = 3, j = 1] [i = 3, j = 0] \n",
      "[i = 4, j = 3] [i = 4, j = 2] [i = 4, j = 1] [i = 4, j = 0] \n"
     ]
    }
   ],
   "source": [
    "for i in range(1, 5):\n",
    "    for j in range(i-1, -1, -1):\n",
    "        print('[i = {}, j = {}]'.format(i, j), end = ' ')\n",
    "    print()"
   ]
  },
  {
   "cell_type": "code",
   "execution_count": 4,
   "id": "c4f7374f",
   "metadata": {},
   "outputs": [
    {
     "name": "stdout",
     "output_type": "stream",
     "text": [
      "1회전 결과 : [3, 8, 4, 9, 1]\n",
      "2회전 결과 : [3, 4, 8, 9, 1]\n",
      "3회전 결과 : [3, 4, 8, 9, 1]\n",
      "4회전 결과 : [1, 3, 4, 8, 9]\n",
      "정렬 결과 : [1, 3, 4, 8, 9]\n"
     ]
    }
   ],
   "source": [
    "data = [8, 3, 4, 9, 1]\n",
    "for i in range(1, len(data)):\n",
    "    # 이미 정렬된 파일에 새 데이터가 삽입될 위치를 찾기 위해서 새 데이터와 인덱스를 각각 key와 index에 저장한다.\n",
    "    key = data[i]\n",
    "    index = i\n",
    "    # 새 데이터가 삽일될 위치를 찾는다.\n",
    "    for j in range(i - 1, -1, -1):\n",
    "        if data[j] > key: # 앞의 데이터가 큰가? / 부등호 바꾸면 내림차순\n",
    "            # 이미 정렬된 파일의 데이터가 더 크기 때문에 정렬된 파일의 데이터를 인덱스가 1 큰 위치로 이동시키고 삽입할 데이터의\n",
    "            # 인덱스를 1 감소시킨다.\n",
    "            data[j + 1] = data[j]\n",
    "            index -= 1\n",
    "        else:\n",
    "            # 삽입할 데이터가 크기 때문에 key와 비교한 데이터의 앞에 위치한 데이터와 더 이상 비교할 필요가 없으므로\n",
    "            # 반복을 탈출한다.\n",
    "            break\n",
    "    # 새 데이터(key)를 정렬된 파일의 위치(index)에 맞게 삽입한다.\n",
    "    data[index] = key\n",
    "    print('{}회전 결과 : {}'.format(i, data))\n",
    "print('정렬 결과 : {}'.format(data))"
   ]
  },
  {
   "cell_type": "code",
   "execution_count": null,
   "id": "eebd10df",
   "metadata": {},
   "outputs": [],
   "source": []
  }
 ],
 "metadata": {
  "kernelspec": {
   "display_name": "Python 3 (ipykernel)",
   "language": "python",
   "name": "python3"
  },
  "language_info": {
   "codemirror_mode": {
    "name": "ipython",
    "version": 3
   },
   "file_extension": ".py",
   "mimetype": "text/x-python",
   "name": "python",
   "nbconvert_exporter": "python",
   "pygments_lexer": "ipython3",
   "version": "3.9.7"
  }
 },
 "nbformat": 4,
 "nbformat_minor": 5
}
