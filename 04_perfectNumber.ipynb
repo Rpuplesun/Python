{
 "cells": [
  {
   "cell_type": "code",
   "execution_count": 3,
   "id": "431867c1",
   "metadata": {},
   "outputs": [
    {
     "name": "stdout",
     "output_type": "stream",
     "text": [
      "1번째 완전수 ->    6\n",
      "2번째 완전수 ->   28\n",
      "3번째 완전수 ->  496\n",
      "4번째 완전수 -> 8128\n"
     ]
    },
    {
     "ename": "KeyboardInterrupt",
     "evalue": "",
     "output_type": "error",
     "traceback": [
      "\u001b[1;31m---------------------------------------------------------------------------\u001b[0m",
      "\u001b[1;31mKeyboardInterrupt\u001b[0m                         Traceback (most recent call last)",
      "\u001b[1;32m~\\AppData\\Local\\Temp/ipykernel_7916/2626068028.py\u001b[0m in \u001b[0;36m<module>\u001b[1;34m\u001b[0m\n\u001b[0;32m      9\u001b[0m \u001b[1;33m\u001b[0m\u001b[0m\n\u001b[0;32m     10\u001b[0m     \u001b[1;31m# 안쪽 반복은 n이 완전수인가 판별하기 위해서 자신을 제외한 약수의 합계를 계산한다.\u001b[0m\u001b[1;33m\u001b[0m\u001b[1;33m\u001b[0m\u001b[0m\n\u001b[1;32m---> 11\u001b[1;33m     \u001b[1;32mfor\u001b[0m \u001b[0mj\u001b[0m \u001b[1;32min\u001b[0m \u001b[0mrange\u001b[0m\u001b[1;33m(\u001b[0m\u001b[1;36m1\u001b[0m\u001b[1;33m,\u001b[0m \u001b[0mk\u001b[0m \u001b[1;33m+\u001b[0m \u001b[1;36m1\u001b[0m\u001b[1;33m)\u001b[0m\u001b[1;33m:\u001b[0m\u001b[1;33m\u001b[0m\u001b[1;33m\u001b[0m\u001b[0m\n\u001b[0m\u001b[0;32m     12\u001b[0m         \u001b[1;31m# 완전수인가 판별할 수의 약수를 계산하기 위해 n을 1 ~ k 사이의 숫자로 나눈 나머지를 계산한다.\u001b[0m\u001b[1;33m\u001b[0m\u001b[1;33m\u001b[0m\u001b[0m\n\u001b[0;32m     13\u001b[0m         \u001b[0mr\u001b[0m \u001b[1;33m=\u001b[0m \u001b[0mn\u001b[0m \u001b[1;33m%\u001b[0m \u001b[0mj\u001b[0m\u001b[1;33m\u001b[0m\u001b[1;33m\u001b[0m\u001b[0m\n",
      "\u001b[1;31mKeyboardInterrupt\u001b[0m: "
     ]
    }
   ],
   "source": [
    "lm = 0 # 완전수의 개수를 세는 변수 -> 완전수로 판단될 때 마다 1씩 증가시킨다.\n",
    "# 바깥 반복은 4 ~ 10000 사이의 완전수를 판별해야 하므로 완전수가 판별할 수(n)을 4~10000까지 1씩 증가시킨다.\n",
    "for n in range(4, 100001):\n",
    "    \n",
    "    # 완전수를 판별할 숫자가 바뀔때마다 약수의 합계를 다시 계산해야 하므로 반복이 시작될 때마다 0으로 초기화시킨다.\n",
    "    total = 0 # 완전수인가 판별할 수의 약수 합계를 계산하는 변수\n",
    "    # 어떤 숫자를 나눠서 떨어뜨릴 수 있는 가장 큰 수는 자신을 제외하면 자신의 절반을 넘어가지 않는다.\n",
    "    k = n // 2\n",
    "    \n",
    "    # 안쪽 반복은 n이 완전수인가 판별하기 위해서 자신을 제외한 약수의 합계를 계산한다.\n",
    "    for j in range(1, k + 1):\n",
    "        # 완전수인가 판별할 수의 약수를 계산하기 위해 n을 1 ~ k 사이의 숫자로 나눈 나머지를 계산한다.\n",
    "        r = n % j\n",
    "        # n을 j로 나눈 나머지가 0이면 j는 n의 약수이므로 약수의 합계를 계산한다.\n",
    "        if r == 0: # j가 n의 약수인가?\n",
    "            total += j # j가 n의 약수이므로 약수의 합계를 계산한다.\n",
    "        # ==========if r == 0 ===========\n",
    "    # ===== for j ========\n",
    "    \n",
    "    # n이 완전수인가 판단해서 완전수면 n을 출력하고 완전수의 개수(lm)를 1 증가시킨다.\n",
    "    if n == total:\n",
    "        lm += 1\n",
    "        print('{0}번째 완전수 -> {1:4d}'.format(lm, n))\n",
    "        \n",
    "print('완전수의 개수는 {}개 입니다.'.format(lm))"
   ]
  },
  {
   "cell_type": "code",
   "execution_count": null,
   "id": "0adf3d60",
   "metadata": {},
   "outputs": [],
   "source": []
  }
 ],
 "metadata": {
  "kernelspec": {
   "display_name": "Python 3 (ipykernel)",
   "language": "python",
   "name": "python3"
  },
  "language_info": {
   "codemirror_mode": {
    "name": "ipython",
    "version": 3
   },
   "file_extension": ".py",
   "mimetype": "text/x-python",
   "name": "python",
   "nbconvert_exporter": "python",
   "pygments_lexer": "ipython3",
   "version": "3.9.7"
  }
 },
 "nbformat": 4,
 "nbformat_minor": 5
}
