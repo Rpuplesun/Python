{
 "cells": [
  {
   "cell_type": "code",
   "execution_count": 4,
   "id": "15040ed1",
   "metadata": {},
   "outputs": [
    {
     "name": "stdout",
     "output_type": "stream",
     "text": [
      "정수를 입력하세요 : 4\n",
      "[1, 0, 0]\n"
     ]
    }
   ],
   "source": [
    "# 10진수 -> 2진수\n",
    "a = int(input('정수를 입력하세요 : '))\n",
    "convert = []\n",
    "while True:\n",
    "    m = a // 2\n",
    "    r = a % 2\n",
    "    convert.append(r)\n",
    "    if m == 0:\n",
    "        break\n",
    "    a = m\n",
    "# convert 리스트에 저장된 데이터를 뒤부터 앞으로 출력한다.\n",
    "# for i in range(len(convert) -1, -1, -1):\n",
    "#     print(convert[i], end=' ')\n",
    "\n",
    "#print(convert[::-1])\n",
    "\n",
    "convert.reverse()\n",
    "print(convert)"
   ]
  },
  {
   "cell_type": "code",
   "execution_count": 6,
   "id": "0fda2f1d",
   "metadata": {},
   "outputs": [
    {
     "name": "stdout",
     "output_type": "stream",
     "text": [
      "정수를 입력하세요 : 26\n",
      "[3, 2]\n"
     ]
    }
   ],
   "source": [
    "# 10진수 -> 8진수\n",
    "a = int(input('정수를 입력하세요 : '))\n",
    "convert = []\n",
    "while True:\n",
    "    m = a // 8\n",
    "    r = a % 8\n",
    "    convert.append(r)\n",
    "    if m == 0:\n",
    "        break\n",
    "    a = m\n",
    "    \n",
    "convert.reverse()\n",
    "print(convert)"
   ]
  },
  {
   "cell_type": "code",
   "execution_count": 11,
   "id": "2c666a5b",
   "metadata": {},
   "outputs": [
    {
     "name": "stdout",
     "output_type": "stream",
     "text": [
      "정수를 입력하세요 : 20\n",
      "['1', '4']\n"
     ]
    }
   ],
   "source": [
    "# 10진수 -> 16진수\n",
    "a = int(input('정수를 입력하세요 : '))\n",
    "convert = []\n",
    "# 16진수 리스트\n",
    "hex_16 = ['0', '1', '2', '3', '4', '5', '6', '7', '8', '9', 'A', 'B', 'C', 'D', 'F']\n",
    "while True:\n",
    "    m = a // 16\n",
    "    r = a % 16\n",
    "    convert.append(hex_16[r])\n",
    "    if m == 0:\n",
    "        break\n",
    "    a = m\n",
    "    \n",
    "convert.reverse()\n",
    "print(convert)"
   ]
  },
  {
   "cell_type": "code",
   "execution_count": 12,
   "id": "12d7274d",
   "metadata": {},
   "outputs": [
    {
     "name": "stdout",
     "output_type": "stream",
     "text": [
      "10진수와 변환활 진법을 입력하세요 : 26 16\n",
      "1 A [10, 1]\n"
     ]
    }
   ],
   "source": [
    "# 10진수 -> n진수\n",
    "a, n = map(int, input('10진수와 변환활 진법을 입력하세요 : ').split())\n",
    "convert = []\n",
    "while True:\n",
    "    m = a // n\n",
    "    r = a % n\n",
    "    convert.append(r)\n",
    "    if m == 0:\n",
    "        break\n",
    "    a = m\n",
    "    \n",
    "for i in range(len(convert) -1, -1, -1):\n",
    "    # chr() 함수는 인수로 지정된 코드값에 해당되는 문자를 리턴한다.\n",
    "    print(convert[i] if convert[i] < 10 else chr(convert[i] + 55), end=' ')"
   ]
  },
  {
   "cell_type": "code",
   "execution_count": null,
   "id": "4a49dcd6",
   "metadata": {},
   "outputs": [],
   "source": []
  }
 ],
 "metadata": {
  "kernelspec": {
   "display_name": "Python 3 (ipykernel)",
   "language": "python",
   "name": "python3"
  },
  "language_info": {
   "codemirror_mode": {
    "name": "ipython",
    "version": 3
   },
   "file_extension": ".py",
   "mimetype": "text/x-python",
   "name": "python",
   "nbconvert_exporter": "python",
   "pygments_lexer": "ipython3",
   "version": "3.9.7"
  }
 },
 "nbformat": 4,
 "nbformat_minor": 5
}
