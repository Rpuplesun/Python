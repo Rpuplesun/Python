{
 "cells": [
  {
   "cell_type": "code",
   "execution_count": null,
   "id": "17b78371",
   "metadata": {},
   "outputs": [
    {
     "name": "stdout",
     "output_type": "stream",
     "text": [
      "소인수분해할 정수를 입력하세요. : 20\n",
      "입력 : 20 -> 2 * 2 * 5\n"
     ]
    }
   ],
   "source": [
    "while True:\n",
    "    n = int(input('소인수분해할 정수를 입력하세요. : '))\n",
    "    if n < 2:\n",
    "        print('2보다 작은 숫자가 입력되어 프로그램을 종료합니다.')\n",
    "        break\n",
    "    \n",
    "    # 소인수 분해에 사용할 기억장소 초기화\n",
    "    s = [] # 분해한 소인수를 기억할 빈 리스트 -> 데이터 추가는 append() 사용\n",
    "    c = 0 # 소인수의 개수, 소인수가 발생될 때 마다 1씩 증가한다.\n",
    "    number = n # 입력받은 소인수분해할 정수를 기억한다.\n",
    "    \n",
    "    # 소인수 분해를 시작한다. -> 입력된 숫자의 크기에 따라서 반복횟수가 달라지므로 무한루프를 돌려 처리한다.\n",
    "    while True:\n",
    "        k = 2 # 소인수 분해를 시작할 수 -> 1은 소수가 아니므로 2부터 시작한다.\n",
    "        while True:\n",
    "            r = n % k \n",
    "            if r == 0: # 소인수 분해가 되었는가?\n",
    "                break # 소인수 분해가 되었으므로 무한루프를 탈출한다.\n",
    "            k += 1 # 소인수 분해가 안되었으므로 k를 1 증가시킨 후 다시 소인수 분해를 실행한다.\n",
    "        \n",
    "        c += 1 # 소인수의 개수를 1 증가시킨다. -> 소인수의 개수가 1개면 자기 자신으로 나눠서 분해된 것이다. -> 소수\n",
    "        s.append(k) # 소인수를 리스트에 추가한다.\n",
    "        n //= k # 다음 소인수를 계산하기 위해서 소인수 분해하고 남은 숫자(몫)을 n에 넣어준다.\n",
    "        if n == 1: # 소인수 분해가 끝났는가?\n",
    "            break # 소인수 분해가 완료되면 무한루프를 탈출한다.\n",
    "    \n",
    "    # 소인수 분해 결과를 출력하기 위해서 소인수의 개수가 1인가(소수인가) 비교한다.\n",
    "    if c == 1:\n",
    "        print('입력 : {} -> 소수'.format(number))\n",
    "    else:\n",
    "        print('입력 : {} -> '.format(number), end='')\n",
    "        for i in range(len(s) - 1):\n",
    "            print(s[i], end=' * ')\n",
    "        print(s[-1])    \n",
    "    "
   ]
  },
  {
   "cell_type": "code",
   "execution_count": null,
   "id": "19f5dbff",
   "metadata": {},
   "outputs": [],
   "source": []
  }
 ],
 "metadata": {
  "kernelspec": {
   "display_name": "Python 3 (ipykernel)",
   "language": "python",
   "name": "python3"
  },
  "language_info": {
   "codemirror_mode": {
    "name": "ipython",
    "version": 3
   },
   "file_extension": ".py",
   "mimetype": "text/x-python",
   "name": "python",
   "nbconvert_exporter": "python",
   "pygments_lexer": "ipython3",
   "version": "3.9.7"
  }
 },
 "nbformat": 4,
 "nbformat_minor": 5
}
