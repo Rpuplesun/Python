{
 "cells": [
  {
   "cell_type": "code",
   "execution_count": 11,
   "id": "1a8eaa04",
   "metadata": {},
   "outputs": [
    {
     "name": "stdout",
     "output_type": "stream",
     "text": [
      " 70점은 5등 입니다.★★★★★★★\n",
      "100점은 1등 입니다.★★★★★★★★★★\n",
      " 80점은 4등 입니다.★★★★★★★★\n",
      "100점은 1등 입니다.★★★★★★★★★★\n",
      " 90점은 3등 입니다.★★★★★★★★★\n"
     ]
    }
   ],
   "source": [
    "# 선택정렬의 반복 알고리즘을 이용해 내림차순(큰 점수가 1등) 석차를 계산하는 프로그램\n",
    "score = [70, 100, 80, 100, 90]\n",
    "# 석차를 기억할 리스트를 만든다.\n",
    "rank = [1 for i in range(len(score))]\n",
    "# print(rank)\n",
    "\n",
    "for i in range(len(score) - 1): # 회전수(n-1번), 데이터를 선택하는 위치\n",
    "    for j in range(i + 1, len(score)):\n",
    "        # i번째 점수가 크며 j번째 석차를 1 증가시키고 j버재 점수가 크면 i번재 석차를 1 증가시킨다.\n",
    "        # 부등호 방향을 반대로 변경하면 오름차순(작은 점수가 1등) 석차가 계산된다.\n",
    "        if score[i] > score[j]:\n",
    "            rank[j] += 1\n",
    "        elif score[i] < score[j]:\n",
    "            rank[i] += 1\n",
    "        \n",
    "for i in range(len(score)):\n",
    "    print('{0:3d}점은 {1}등 입니다.'.format(score[i], rank[i]), end='')\n",
    "    print('★' * (score[i] // 10))"
   ]
  },
  {
   "cell_type": "code",
   "execution_count": null,
   "id": "b93396da",
   "metadata": {},
   "outputs": [],
   "source": []
  }
 ],
 "metadata": {
  "kernelspec": {
   "display_name": "Python 3 (ipykernel)",
   "language": "python",
   "name": "python3"
  },
  "language_info": {
   "codemirror_mode": {
    "name": "ipython",
    "version": 3
   },
   "file_extension": ".py",
   "mimetype": "text/x-python",
   "name": "python",
   "nbconvert_exporter": "python",
   "pygments_lexer": "ipython3",
   "version": "3.9.7"
  }
 },
 "nbformat": 4,
 "nbformat_minor": 5
}
