{
 "cells": [
  {
   "cell_type": "code",
   "execution_count": 1,
   "id": "467bc9fb",
   "metadata": {},
   "outputs": [],
   "source": [
    "import random"
   ]
  },
  {
   "cell_type": "code",
   "execution_count": 22,
   "id": "761067fd",
   "metadata": {},
   "outputs": [
    {
     "name": "stdout",
     "output_type": "stream",
     "text": [
      "38 {38}\n",
      "25 {25, 38}\n",
      " 2 {25, 2, 38}\n",
      "11 {25, 2, 11, 38}\n",
      "25 {25, 2, 11, 38}\n",
      " 1 {1, 2, 38, 11, 25}\n",
      "22 {1, 2, 38, 11, 22, 25}\n",
      "1등 번호 : {1, 2, 38, 11, 22, 25} \n",
      "11\n",
      "\n",
      "26\n",
      "보너스 번호 : 26\n"
     ]
    }
   ],
   "source": [
    "# 로또 번호를 기헉할 빈 set을 만든다.\n",
    "lotto = set()\n",
    "# print(type(lotto))\n",
    "\n",
    "# 1등 번호\n",
    "# 같은 번호가 몇 번 나올지 모르기 때문에 무한루프를 돌려준다.\n",
    "while True:\n",
    "    number = random.randrange(1, 46)\n",
    "    lotto.add(number)\n",
    "    print('{0:2d} {1}'.format(number, lotto))\n",
    "    # set에 중복되지 않는 숫자가 6개 저장되면 무한루프를 탈출시킨다.\n",
    "    if len(lotto) == 6:\n",
    "        break\n",
    "print('1등 번호 : {}'.format(lotto), end=' ')\n",
    "\n",
    "# 보너스 번호\n",
    "while True:\n",
    "    bonus = random.randrange(1, 46)\n",
    "    print('\\n' + str(bonus))\n",
    "    # 보너스 번호가 로또 번호에 없을 경우 무한루프를 탈출시킨다.\n",
    "    if bonus not in lotto:\n",
    "        break\n",
    "print('보너스 번호 : {}'.format(bonus))"
   ]
  },
  {
   "cell_type": "code",
   "execution_count": null,
   "id": "e47c23b2",
   "metadata": {},
   "outputs": [],
   "source": []
  },
  {
   "cell_type": "code",
   "execution_count": null,
   "id": "24047a69",
   "metadata": {},
   "outputs": [],
   "source": []
  }
 ],
 "metadata": {
  "kernelspec": {
   "display_name": "Python 3 (ipykernel)",
   "language": "python",
   "name": "python3"
  },
  "language_info": {
   "codemirror_mode": {
    "name": "ipython",
    "version": 3
   },
   "file_extension": ".py",
   "mimetype": "text/x-python",
   "name": "python",
   "nbconvert_exporter": "python",
   "pygments_lexer": "ipython3",
   "version": "3.9.7"
  }
 },
 "nbformat": 4,
 "nbformat_minor": 5
}
