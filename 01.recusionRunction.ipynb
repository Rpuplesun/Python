{
 "cells": [
  {
   "cell_type": "code",
   "execution_count": 4,
   "id": "aed80f57",
   "metadata": {},
   "outputs": [],
   "source": [
    "# 인수로 정수 1개를 넘겨받아 그 숫자의 factorial을 계산하는 함수\n",
    "def factorial(number):\n",
    "    fact = 1\n",
    "    for i in range(1, number+1):\n",
    "        fact *= i\n",
    "    return fact"
   ]
  },
  {
   "cell_type": "code",
   "execution_count": 7,
   "id": "1d3b68f6",
   "metadata": {},
   "outputs": [
    {
     "name": "stdout",
     "output_type": "stream",
     "text": [
      "정수를 입력하세요 : 5\n",
      "5 factorial = 120\n"
     ]
    }
   ],
   "source": [
    "number = int(input('정수를 입력하세요 : '))\n",
    "fact = factorial(number)\n",
    "print(\"{} factorial = {}\".format(number, fact))"
   ]
  },
  {
   "cell_type": "code",
   "execution_count": 8,
   "id": "36a831cd",
   "metadata": {},
   "outputs": [],
   "source": [
    "# factorial을 계산하는 resursion 함수\n",
    "def factorialResursion(number):\n",
    "    if number == 1:\n",
    "        return 1\n",
    "    return number * factorialResursion(number - 1)"
   ]
  },
  {
   "cell_type": "code",
   "execution_count": 10,
   "id": "9bb49be3",
   "metadata": {
    "scrolled": true
   },
   "outputs": [
    {
     "name": "stdout",
     "output_type": "stream",
     "text": [
      "정수를 입력하세요 : 5\n",
      "5 factorial = 120\n"
     ]
    }
   ],
   "source": [
    "number = int(input('정수를 입력하세요 : '))\n",
    "fact = factorialResursion(number)\n",
    "print(\"{} factorial = {}\".format(number, fact))"
   ]
  },
  {
   "cell_type": "code",
   "execution_count": null,
   "id": "0031bab6",
   "metadata": {},
   "outputs": [],
   "source": []
  }
 ],
 "metadata": {
  "kernelspec": {
   "display_name": "Python 3 (ipykernel)",
   "language": "python",
   "name": "python3"
  },
  "language_info": {
   "codemirror_mode": {
    "name": "ipython",
    "version": 3
   },
   "file_extension": ".py",
   "mimetype": "text/x-python",
   "name": "python",
   "nbconvert_exporter": "python",
   "pygments_lexer": "ipython3",
   "version": "3.9.7"
  }
 },
 "nbformat": 4,
 "nbformat_minor": 5
}
